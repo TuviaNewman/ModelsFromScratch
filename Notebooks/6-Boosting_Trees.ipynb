{
 "cells": [
  {
   "cell_type": "markdown",
   "metadata": {
    "Collapsed": "false",
    "colab_type": "text",
    "id": "hT8h3vPrOv_d"
   },
   "source": [
    "# Boosting Trees\n",
    "Boosting is an ensemble technique in which the predictors are not made independently, but sequentially. Gradient boosting builds an ensemble of trees one-by-one, then the predictions of the individual trees are summed:\n",
    "$$ D(\\mathbf{x}) = d_\\text{tree 1}(\\mathbf{x}) + d_\\text{tree 2}(\\mathbf{x}) + ... $$\n",
    "\n",
    "The next decision tree tries to cover the discrepancy between the target function $f(\\mathbf{x})$ and the current ensemble prediction by reconstructing the residual.\n",
    "\n",
    "For example, if an ensemble has 3 trees the prediction of that ensemble is:\n",
    "$$ D(\\mathbf{x}) = d_\\text{tree 1}(\\mathbf{x}) + d_\\text{tree 2}(\\mathbf{x}) + d_\\text{tree 3} $$\n",
    "\n",
    "The next tree (tree 4) in the ensemble should minimize the training error of the already existing ensemble.\n",
    "In the ideal case we'd be happy to have:\n",
    "$$ D(\\mathbf{x}) + d_\\text{tree 4}(\\mathbf{x}) = f(\\mathbf{x}) $$\n",
    "\n",
    "To get a bit closer to the destination, we train a tree to reconstruct the difference between the target function and the current predictions of an ensemble, which is called the residual:\n",
    "$$ R(\\mathbf{x}) = f(\\mathbf{x}) - D(\\mathbf{x}) $$\n",
    "\n",
    "Essentially the model is training new addition, creating a preduction using all the trees and calculating the error so that the next tree can be trained using the updated error.\n",
    "\n",
    "Below we can see the algorithm for the L2 boosting that we implemented<br>\n",
    "![alt text](https://explained.ai/gradient-boosting/images/latex-321A7951E78381FB73D2A6874916134D.svg)\n"
   ]
  },
  {
   "cell_type": "code",
   "execution_count": 1,
   "metadata": {
    "Collapsed": "false",
    "colab": {},
    "colab_type": "code",
    "id": "PkDeDoOkv_ui"
   },
   "outputs": [],
   "source": [
    "from sklearn.model_selection import train_test_split, RandomizedSearchCV\n",
    "from sklearn.datasets import fetch_california_housing, load_diabetes\n",
    "from sklearn.metrics import mean_squared_error, make_scorer\n",
    "from sklearn.tree import DecisionTreeRegressor\n",
    "from sklearn.base import BaseEstimator, ClassifierMixin\n",
    "\n",
    "import matplotlib.pyplot as plt\n",
    "import numpy as np\n",
    "import math"
   ]
  },
  {
   "cell_type": "markdown",
   "metadata": {
    "Collapsed": "false"
   },
   "source": [
    "### L2 Boost from scratch"
   ]
  },
  {
   "cell_type": "code",
   "execution_count": 2,
   "metadata": {
    "Collapsed": "false",
    "colab": {},
    "colab_type": "code",
    "id": "PkDeDoOkv_ui"
   },
   "outputs": [],
   "source": [
    "class L2_Boost(BaseEstimator, ClassifierMixin):\n",
    "\n",
    "    def __init__(self, n_trees, learning_rate):\n",
    "        '''\n",
    "        n_trees is the number of trees to create\n",
    "        learning rate: rate of learning that will be used by model\n",
    "        '''\n",
    "        self.trees = []\n",
    "        self.n_trees = n_trees\n",
    "        self.learning_rate = learning_rate\n",
    "        self.f0 = None\n",
    "        self.mses = []\n",
    "\n",
    "    def fit(self, X, y):\n",
    "        '''\n",
    "        Fit/train model\n",
    "        X: a matrix of data values (rows are samples, columns are attributes)\n",
    "        y: a vector of corresponding target values\n",
    "        '''\n",
    "        self.f0 = y.mean()\n",
    "        y_hat = np.ones(len(y)) * self.f0\n",
    "        for i in range(self.n_trees):\n",
    "            residuals = y - y_hat\n",
    "            regressor = DecisionTreeRegressor(max_depth=1)\n",
    "            regressor.fit(X, residuals)\n",
    "            self.trees.append(regressor)\n",
    "            predictions = regressor.predict(X)\n",
    "            y_hat = y_hat + self.learning_rate*predictions\n",
    "            self.mses.append(mean_squared_error(y, y_hat))\n",
    "            \n",
    "    def predict(self, X):\n",
    "        '''\n",
    "        Predict using fitted/trained model\n",
    "        X: a matrix of data values (rows are samples, columns are attributes)\n",
    "        '''\n",
    "        y_hat = np.ones(X.shape[0]) * self.f0\n",
    "        for tree in self.trees:\n",
    "            y_hat = y_hat + self.learning_rate * tree.predict(X)\n",
    "        return y_hat\n",
    "    \n",
    "    def get_params(self, deep=True):\n",
    "        '''\n",
    "        get model params\n",
    "        '''\n",
    "        return {\n",
    "                'n_trees': self.n_trees,\n",
    "                'learning_rate': self.learning_rate,\n",
    "               }\n",
    "\n",
    "    def set_params(self, **parameters):\n",
    "        '''\n",
    "        set model params.\n",
    "        Params that can be set: n_trees, learning_rate\n",
    "        '''\n",
    "        for parameter, value in parameters.items():\n",
    "            setattr(self, parameter, value)"
   ]
  },
  {
   "cell_type": "markdown",
   "metadata": {
    "Collapsed": "false"
   },
   "source": [
    "### Predict on California housing data set\n",
    "We will try training a model with 1000 trees and see what happens"
   ]
  },
  {
   "cell_type": "code",
   "execution_count": 3,
   "metadata": {
    "Collapsed": "false"
   },
   "outputs": [],
   "source": [
    "X, y = fetch_california_housing(return_X_y=True)\n",
    "X_train, X_test, y_train, y_test = train_test_split(X, y, test_size=0.25, random_state=0)"
   ]
  },
  {
   "cell_type": "code",
   "execution_count": 4,
   "metadata": {
    "Collapsed": "false"
   },
   "outputs": [],
   "source": [
    "regressor = L2_Boost(n_trees=1000, learning_rate=0.1)\n",
    "regressor.fit(X_train, y_train)"
   ]
  },
  {
   "cell_type": "code",
   "execution_count": 5,
   "metadata": {
    "Collapsed": "false"
   },
   "outputs": [
    {
     "data": {
      "text/plain": [
       "0.3396928652871119"
      ]
     },
     "execution_count": 5,
     "metadata": {},
     "output_type": "execute_result"
    }
   ],
   "source": [
    "y_pred = regressor.predict(X_test)\n",
    "mean_squared_error(y_test, y_pred)"
   ]
  },
  {
   "cell_type": "markdown",
   "metadata": {
    "Collapsed": "false"
   },
   "source": [
    "This is a huge improvement from what we saw with the Random Forest. Boosting trees are very good at minimizing risk but also very prone to overfitting. When training with them great care must be taken to make sure that the model is not overfitting. Lets take a look at how much each new tree helps our model. (Looking at the Learning Curve like we saw before with Naive Bayes would also be a good idea) "
   ]
  },
  {
   "cell_type": "markdown",
   "metadata": {
    "Collapsed": "false"
   },
   "source": [
    "### Plot MSE per number of trees"
   ]
  },
  {
   "cell_type": "code",
   "execution_count": 6,
   "metadata": {
    "Collapsed": "false"
   },
   "outputs": [
    {
     "data": {
      "text/plain": [
       "Text(0.5, 1.0, 'Error as a function of number of trees')"
      ]
     },
     "execution_count": 6,
     "metadata": {},
     "output_type": "execute_result"
    },
    {
     "data": {
      "image/png": "[encoded data removed]",
      "text/plain": [
       "<Figure size 1440x720 with 1 Axes>"
      ]
     },
     "metadata": {
      "needs_background": "light"
     },
     "output_type": "display_data"
    }
   ],
   "source": [
    "plt.figure(figsize=(20,10))\n",
    "plt.plot(regressor.mses)\n",
    "plt.xlabel('Number of trees')\n",
    "plt.ylabel('MSE')\n",
    "plt.title(\"Error as a function of number of trees\")"
   ]
  },
  {
   "cell_type": "markdown",
   "metadata": {
    "Collapsed": "false"
   },
   "source": [
    "Based on the above graph we can see that we could get a similar MSE with a fraction of the amount of trees. This is probably a good idea as the last 700 trees only lower the MSE a little and are probably overfitting the data."
   ]
  },
  {
   "cell_type": "code",
   "execution_count": 7,
   "metadata": {
    "Collapsed": "false"
   },
   "outputs": [
    {
     "data": {
      "text/plain": [
       "0.39113594907461496"
      ]
     },
     "execution_count": 7,
     "metadata": {},
     "output_type": "execute_result"
    }
   ],
   "source": [
    "regressor = L2_Boost(n_trees=300, learning_rate=0.1)\n",
    "regressor.fit(X_train, y_train)\n",
    "y_pred = regressor.predict(X_test)\n",
    "mean_squared_error(y_test, y_pred)"
   ]
  },
  {
   "cell_type": "markdown",
   "metadata": {
    "Collapsed": "false"
   },
   "source": [
    "#### Plot Error as Trees are added "
   ]
  },
  {
   "cell_type": "code",
   "execution_count": 8,
   "metadata": {
    "Collapsed": "false"
   },
   "outputs": [
    {
     "data": {
      "text/plain": [
       "Text(0.5, 1.0, 'Error as a function of number of trees')"
      ]
     },
     "execution_count": 8,
     "metadata": {},
     "output_type": "execute_result"
    },
    {
     "data": {
      "image/png": "[encoded data removed]",
      "text/plain": [
       "<Figure size 1440x720 with 1 Axes>"
      ]
     },
     "metadata": {
      "needs_background": "light"
     },
     "output_type": "display_data"
    }
   ],
   "source": [
    "plt.figure(figsize=(20,10))\n",
    "plt.plot(regressor.mses)\n",
    "plt.xlabel('Number of trees')\n",
    "plt.ylabel('MSE')\n",
    "plt.title(\"Error as a function of number of trees\")"
   ]
  },
  {
   "cell_type": "markdown",
   "metadata": {
    "Collapsed": "false"
   },
   "source": [
    "That already looks much better. Based on the model and the data it is likely that even cutting down to 200 trees would be a good idea to avoid overfitting."
   ]
  },
  {
   "cell_type": "code",
   "execution_count": null,
   "metadata": {
    "Collapsed": "false"
   },
   "outputs": [],
   "source": []
  }
 ],
 "metadata": {
  "colab": {
   "collapsed_sections": [],
   "name": "Boosting - Exercise.ipynb",
   "provenance": []
  },
  "kernelspec": {
   "display_name": "Python 3",
   "language": "python",
   "name": "python3"
  },
  "language_info": {
   "codemirror_mode": {
    "name": "ipython",
    "version": 3
   },
   "file_extension": ".py",
   "mimetype": "text/x-python",
   "name": "python",
   "nbconvert_exporter": "python",
   "pygments_lexer": "ipython3",
   "version": "3.7.5"
  }
 },
 "nbformat": 4,
 "nbformat_minor": 4
}
