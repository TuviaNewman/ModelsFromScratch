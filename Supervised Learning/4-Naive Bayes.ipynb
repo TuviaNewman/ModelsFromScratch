{
 "cells": [
  {
   "cell_type": "markdown",
   "metadata": {
    "Collapsed": "false",
    "colab_type": "text",
    "id": "Uq_3t_tluNmU"
   },
   "source": [
    "# Multinomial Naive Bayes\n",
    "\n",
    "A Naive Bayes model assumes that each of the features it uses are conditionally independent of one another given some class. More formally, if I want to calculate the probability of observing features $ F_1 ... F_n $, given some class c, under the Naive Bayes assumption the following holds:\n",
    "\n",
    "$$ P(f_1,...,f_n|c)=\\prod_{i=1}^{n} P(f_i|c) $$\n",
    "\n",
    "This means that when I want to use a Naive Bayes model to classify a new example, the posterior probability is much simpler to work with:\n",
    "\n",
    "$$ P(c|f_1,...,f_n) \\propto P(c)P(f_1|c)...P(f_n|c) $$\n",
    "\n",
    "Of course these assumptions of independence are rarely true, but in practice Naive Bayes models have performed surprisingly well, even on complex tasks where it is clear that the strong independence assumptions are false.\n",
    "\n",
    "Up to this point we have said nothing about the distribution of each feature. In other words, we have left $ p(f_i|c) $ undefined. The term Multinomial Naive Bayes simply lets us know that each $ p(f_i|c) $ is a multinomial distribution, rather than some other distribution (Gaussian, Bernoulli). This works well for data which can easily be turned into counts, such as word counts in text.\n",
    "\n",
    "So Naive Bayes classifier is a general term which refers to conditional independence of each of the features in the model, while Multinomial Naive Bayes classifier is a specific instance of a Naive Bayes classifier which uses a multinomial distribution for each of the features."
   ]
  },
  {
   "cell_type": "code",
   "execution_count": 1,
   "metadata": {
    "Collapsed": "false"
   },
   "outputs": [],
   "source": [
    "import numpy as np\n",
    "import string\n",
    "\n",
    "import matplotlib.pyplot as plt\n",
    "\n",
    "from sklearn.model_selection import ShuffleSplit, RandomizedSearchCV, learning_curve, train_test_split\n",
    "from sklearn.metrics import classification_report\n",
    "from sklearn.feature_extraction.text import CountVectorizer, TfidfVectorizer\n",
    "from sklearn.pipeline import make_pipeline\n",
    "from sklearn.datasets import fetch_20newsgroups\n",
    "from sklearn.naive_bayes import MultinomialNB\n",
    "from sklearn.base import BaseEstimator, ClassifierMixin"
   ]
  },
  {
   "cell_type": "markdown",
   "metadata": {
    "Collapsed": "false"
   },
   "source": [
    "### Naive Bayes from scratch"
   ]
  },
  {
   "cell_type": "code",
   "execution_count": 2,
   "metadata": {
    "Collapsed": "false",
    "colab": {},
    "colab_type": "code",
    "id": "FEbVc4Ixxe6L"
   },
   "outputs": [],
   "source": [
    "class NaiveBayes(BaseEstimator, ClassifierMixin):\n",
    "        \n",
    "    def __init__(self):\n",
    "        '''\n",
    "        initialize naive basyes parameters for later use\n",
    "        '''\n",
    "        self.class_probs = None\n",
    "        self.log_label_word_proba = None\n",
    "    \n",
    "    def fit(self, X, y):\n",
    "        '''\n",
    "        Fit/train model\n",
    "        X: a matrix of data values (rows are samples, columns are attributes)\n",
    "        y: a vector of corresponding target values\n",
    "        '''\n",
    "        # class counts and labels to get class prior (probability)\n",
    "        labels, labels_counts = np.unique(y, return_counts=True)\n",
    "        self.log_class_prior = np.log(labels_counts / y.size)\n",
    "        \n",
    "        # lable-word priors\n",
    "        vocab_size = X.shape[1]\n",
    "        label_vecs = {l: X[y == l] for l in labels} # vocab vector per label\n",
    "        label_word_count = {l: np.sum(label_vecs[l]) for l in labels} # word count per label\n",
    "        label_divisor = {l: label_word_count[l] + vocab_size + 1 for l in labels}\n",
    "        \n",
    "        # word_in_class_probabilities\n",
    "        label_word_proba = np.array([(np.sum(label_vecs[l], axis=0) + 1) / label_divisor[l] for l in labels])\n",
    "        label_word_proba = np.squeeze(label_word_proba)\n",
    "        self.log_label_word_proba = np.log(label_word_proba)\n",
    "        \n",
    "    def predict_log_proba(self, X):\n",
    "        '''\n",
    "        Predict logarithm of probability estimates for class labels\n",
    "        The returned estimates for all classes are ordered by the label of classes\n",
    "        X: a matrix of data values (rows are samples, columns are attributes)\n",
    "        '''\n",
    "        return self.log_class_prior + np.array(X * self.log_label_word_proba.T)  \n",
    "\n",
    "    def predict(self, X):\n",
    "        '''\n",
    "        Predict class labels using fitted/trained model\n",
    "        X: a matrix of data values (rows are samples, columns are attributes)\n",
    "        '''\n",
    "        return np.argmax(self.predict_log_proba(X), axis=1)\n",
    "    "
   ]
  },
  {
   "cell_type": "markdown",
   "metadata": {
    "Collapsed": "false"
   },
   "source": [
    "### We will now classify the \"20 newsgroups\" data set using our own naive bayes classifier and compare to the scikit learn built in version.\n",
    "\n",
    "The 20 newsgroups dataset comprises around 18000 newsgroups posts on 20 topics split in two subsets: one for training (or development) and the other one for testing (or for performance evaluation). The split between the train and test set is based upon messages posted before and after a specific date."
   ]
  },
  {
   "cell_type": "code",
   "execution_count": 3,
   "metadata": {
    "Collapsed": "false"
   },
   "outputs": [],
   "source": [
    "X_train, y_train = fetch_20newsgroups(remove = ('headers', 'footer', 'quotes'), subset='train', return_X_y=True)\n",
    "X_test, y_test = fetch_20newsgroups(remove = ('headers', 'footer', 'quotes'), subset='test', return_X_y=True)"
   ]
  },
  {
   "cell_type": "code",
   "execution_count": 4,
   "metadata": {
    "Collapsed": "false"
   },
   "outputs": [],
   "source": [
    "def show_results(clf):\n",
    "    clf.fit(X_train, y_train)\n",
    "    y_pred = clf.predict(X_test)\n",
    "    print('Per Class Evaluation: \\n' + classification_report(y_test,y_pred))"
   ]
  },
  {
   "cell_type": "markdown",
   "metadata": {
    "Collapsed": "false"
   },
   "source": [
    "### Compare our NaiveBayes to sklearn implementation"
   ]
  },
  {
   "cell_type": "code",
   "execution_count": 5,
   "metadata": {
    "Collapsed": "false"
   },
   "outputs": [
    {
     "name": "stdout",
     "output_type": "stream",
     "text": [
      "Per Class Evaluation: \n",
      "              precision    recall  f1-score   support\n",
      "\n",
      "           0       0.73      0.37      0.49       319\n",
      "           1       0.59      0.74      0.65       389\n",
      "           2       0.50      0.01      0.02       394\n",
      "           3       0.54      0.73      0.62       392\n",
      "           4       0.80      0.61      0.69       385\n",
      "           5       0.57      0.80      0.67       395\n",
      "           6       0.85      0.73      0.79       390\n",
      "           7       0.87      0.77      0.82       396\n",
      "           8       0.91      0.82      0.86       398\n",
      "           9       0.94      0.78      0.85       397\n",
      "          10       0.82      0.93      0.87       399\n",
      "          11       0.58      0.85      0.69       396\n",
      "          12       0.74      0.53      0.62       393\n",
      "          13       0.79      0.80      0.79       396\n",
      "          14       0.71      0.83      0.76       394\n",
      "          15       0.50      0.93      0.65       398\n",
      "          16       0.65      0.74      0.70       364\n",
      "          17       0.69      0.84      0.76       376\n",
      "          18       0.57      0.52      0.54       310\n",
      "          19       0.74      0.14      0.23       251\n",
      "\n",
      "    accuracy                           0.69      7532\n",
      "   macro avg       0.70      0.67      0.65      7532\n",
      "weighted avg       0.71      0.69      0.67      7532\n",
      "\n"
     ]
    }
   ],
   "source": [
    "# Handmade Naive bayes with CountVectorizer\n",
    "clf = make_pipeline(CountVectorizer(stop_words='english', ngram_range=(1,1)), NaiveBayes())\n",
    "show_results(clf)"
   ]
  },
  {
   "cell_type": "code",
   "execution_count": 6,
   "metadata": {
    "Collapsed": "false"
   },
   "outputs": [
    {
     "name": "stdout",
     "output_type": "stream",
     "text": [
      "Per Class Evaluation: \n",
      "              precision    recall  f1-score   support\n",
      "\n",
      "           0       0.73      0.37      0.49       319\n",
      "           1       0.59      0.74      0.65       389\n",
      "           2       0.50      0.01      0.02       394\n",
      "           3       0.54      0.73      0.62       392\n",
      "           4       0.80      0.61      0.69       385\n",
      "           5       0.57      0.80      0.67       395\n",
      "           6       0.85      0.73      0.79       390\n",
      "           7       0.87      0.77      0.82       396\n",
      "           8       0.91      0.82      0.86       398\n",
      "           9       0.94      0.78      0.85       397\n",
      "          10       0.82      0.93      0.87       399\n",
      "          11       0.58      0.85      0.69       396\n",
      "          12       0.74      0.53      0.62       393\n",
      "          13       0.79      0.80      0.79       396\n",
      "          14       0.71      0.83      0.76       394\n",
      "          15       0.50      0.93      0.65       398\n",
      "          16       0.65      0.74      0.70       364\n",
      "          17       0.69      0.84      0.76       376\n",
      "          18       0.57      0.52      0.54       310\n",
      "          19       0.74      0.14      0.23       251\n",
      "\n",
      "    accuracy                           0.69      7532\n",
      "   macro avg       0.70      0.67      0.65      7532\n",
      "weighted avg       0.71      0.69      0.67      7532\n",
      "\n"
     ]
    }
   ],
   "source": [
    "# sklearn Naive bayes with CountVectorizer\n",
    "clf = make_pipeline(CountVectorizer(stop_words='english', ngram_range=(1,1)), MultinomialNB())\n",
    "show_results(clf)"
   ]
  },
  {
   "cell_type": "markdown",
   "metadata": {
    "Collapsed": "false"
   },
   "source": [
    "## Learning Curve\n",
    "\n",
    "A learning curve is a plot of model learning performance over experience or time.\n",
    "\n",
    "Learning curves are a widely used diagnostic tool in machine learning for algorithms that learn from a training dataset incrementally. The model can be evaluated on the training dataset and on a hold out validation dataset after each update during training and plots of the measured performance can created to show learning curves. This gives us valuable insight into how the training of our model went and whether or not we should be worried about overfitting or underfitting."
   ]
  },
  {
   "cell_type": "code",
   "execution_count": 7,
   "metadata": {
    "Collapsed": "false"
   },
   "outputs": [],
   "source": [
    "def plot_learning_curve(clf):\n",
    "    cv = ShuffleSplit(n_splits=10, test_size=0.2, random_state=0)\n",
    "    train_sizes, train_scores, test_scores = learning_curve(clf, X_train, y_train, cv=cv, train_sizes=np.linspace(.1, 1.0, 5))\n",
    "    train_scores_mean = np.mean(train_scores, axis=1)\n",
    "    train_scores_std = np.std(train_scores, axis=1)\n",
    "    test_scores_mean = np.mean(test_scores, axis=1)\n",
    "    test_scores_std = np.std(test_scores, axis=1)  \n",
    "\n",
    "    # Plot\n",
    "    fig, axes = plt.subplots(1,1, figsize=(12, 8))\n",
    "    axes.set_title('Learning Curves (Naive Bayes)')\n",
    "    axes.set_ylim(*(0.01, 1.01))\n",
    "    axes.set_xlabel('Examples')\n",
    "    axes.set_ylabel('Score')\n",
    "    axes.fill_between(train_sizes, train_scores_mean - train_scores_std,\n",
    "                         train_scores_mean + train_scores_std, alpha=0.1,\n",
    "                         color=\"r\")\n",
    "    axes.fill_between(train_sizes, test_scores_mean - test_scores_std,\n",
    "                         test_scores_mean + test_scores_std, alpha=0.1,\n",
    "                         color=\"g\")\n",
    "    axes.plot(train_sizes, train_scores_mean, 'o-', color=\"r\",\n",
    "                 label=\"Training score\")\n",
    "    axes.plot(train_sizes, test_scores_mean, 'o-', color=\"g\",\n",
    "                 label=\"Cross-validation score\")\n",
    "    axes.legend(loc=\"best\")\n",
    "    plt.show()"
   ]
  },
  {
   "cell_type": "markdown",
   "metadata": {
    "Collapsed": "false"
   },
   "source": [
    "#### Just right\n",
    "\n",
    "Here we add standard parameters to see what a good learning curve looks like. The train and test start far apart and slowly come together over the course of the training. The training score should get lower as the CV score gets higher. By the end the lines should be straightening out with the training set score only a buit higher than that of the CV score."
   ]
  },
  {
   "cell_type": "code",
   "execution_count": 8,
   "metadata": {
    "Collapsed": "false"
   },
   "outputs": [
    {
     "data": {
      "image/png": "[encoded data removed]",
      "text/plain": [
       "<Figure size 864x576 with 1 Axes>"
      ]
     },
     "metadata": {
      "needs_background": "light"
     },
     "output_type": "display_data"
    }
   ],
   "source": [
    "clf = make_pipeline(CountVectorizer(stop_words='english', ngram_range=(1,1), max_features=50000), MultinomialNB())\n",
    "plot_learning_curve(clf)"
   ]
  },
  {
   "cell_type": "markdown",
   "metadata": {
    "Collapsed": "false"
   },
   "source": [
    "#### Overfit\n",
    "\n",
    "Here we will train with a large amount of only 50-grams, this creates heavy overfitting which is apparent in the graph as a huge gap between the lines that doesnt get smaller with amount of samples."
   ]
  },
  {
   "cell_type": "code",
   "execution_count": 9,
   "metadata": {
    "Collapsed": "false"
   },
   "outputs": [
    {
     "data": {
      "image/png": "[encoded data removed]",
      "text/plain": [
       "<Figure size 864x576 with 1 Axes>"
      ]
     },
     "metadata": {
      "needs_background": "light"
     },
     "output_type": "display_data"
    }
   ],
   "source": [
    "clf = make_pipeline(CountVectorizer(stop_words='english', ngram_range=(50,50)), MultinomialNB())\n",
    "plot_learning_curve(clf)"
   ]
  },
  {
   "cell_type": "markdown",
   "metadata": {
    "Collapsed": "false"
   },
   "source": [
    "#### Underfit\n",
    "\n",
    "Here we use a very minimal amount of features (100). This leads to underfitting. We can see below that the training and validation scores dont start very far apart and the corss-validation score does not improve that much over the course of the training."
   ]
  },
  {
   "cell_type": "code",
   "execution_count": 10,
   "metadata": {
    "Collapsed": "false"
   },
   "outputs": [
    {
     "data": {
      "image/png": "[encoded data removed]",
      "text/plain": [
       "<Figure size 864x576 with 1 Axes>"
      ]
     },
     "metadata": {
      "needs_background": "light"
     },
     "output_type": "display_data"
    }
   ],
   "source": [
    "clf = make_pipeline(CountVectorizer(stop_words='english', ngram_range=(1,1), max_features=100), MultinomialNB())\n",
    "plot_learning_curve(clf)"
   ]
  },
  {
   "cell_type": "markdown",
   "metadata": {
    "Collapsed": "false"
   },
   "source": [
    "## Hyper-parameter Optimization\n",
    "\n",
    "Another way of optimizing out model is  Hyper-parameter Optimization. Here we take our model (or somtimes even multiple types of models) and train them with different hyper-parameters. We find the error for each model using cross validation and then train the next model. At the end we choose the model with the lowest error (or whatever metric we choose) across all trained models. In this way we can tweak our model to get the most out of our data. \n",
    "\n",
    "The best current optimizer is BayesSearchCV but it is in beta still so we will use the standard RandomSearchCV from sklearn. \n",
    "\n",
    "Grid Search can be thought of as an exhaustive search for selecting a model. In Grid Search, the data scientist sets up a grid of hyperparameter values and for each combination, trains a model and scores on the testing data. In this approach, every combination of hyperparameter values is tried which can be very inefficient.\n",
    "\n",
    "Random Search sets up a grid of hyperparameter values and selects random combinations to train the model and score.\n",
    "\n",
    "While GridSerach is exaustive, it takes a lot of time to run. Random Search tends to be able to find a comparible if not better result and in a fraction of the time."
   ]
  },
  {
   "cell_type": "code",
   "execution_count": 11,
   "metadata": {
    "Collapsed": "false"
   },
   "outputs": [
    {
     "name": "stdout",
     "output_type": "stream",
     "text": [
      "Fitting 5 folds for each of 10 candidates, totalling 50 fits\n"
     ]
    },
    {
     "name": "stderr",
     "output_type": "stream",
     "text": [
      "[Parallel(n_jobs=-1)]: Using backend LokyBackend with 8 concurrent workers.\n",
      "[Parallel(n_jobs=-1)]: Done   2 tasks      | elapsed:   14.2s\n",
      "[Parallel(n_jobs=-1)]: Done   9 tasks      | elapsed:   53.8s\n",
      "[Parallel(n_jobs=-1)]: Done  16 tasks      | elapsed:  1.6min\n",
      "[Parallel(n_jobs=-1)]: Done  25 tasks      | elapsed:  2.5min\n",
      "[Parallel(n_jobs=-1)]: Done  34 tasks      | elapsed:  3.3min\n",
      "[Parallel(n_jobs=-1)]: Done  41 out of  50 | elapsed:  3.5min remaining:   46.1s\n",
      "[Parallel(n_jobs=-1)]: Done  47 out of  50 | elapsed:  3.8min remaining:   14.6s\n",
      "[Parallel(n_jobs=-1)]: Done  50 out of  50 | elapsed:  4.0min finished\n"
     ]
    }
   ],
   "source": [
    "param_grid = {\n",
    "    'tfidfvectorizer__ngram_range': [(1,1), (1,2), (1,3), (1,4)],\n",
    "    'tfidfvectorizer__binary': [True, False],\n",
    "    'tfidfvectorizer__norm': [None, 'l1', 'l2'],\n",
    "    'tfidfvectorizer__max_features': (5000, 10000, 20000,30000,40000,50000, None),\n",
    "}\n",
    "\n",
    "pipeline = make_pipeline(TfidfVectorizer(stop_words='english'), MultinomialNB())\n",
    "grid_search = RandomizedSearchCV(pipeline, param_grid, return_train_score=True, verbose=10, n_jobs=-1)\n",
    "\n",
    "clf_opt = grid_search.fit(X_train,y_train)"
   ]
  },
  {
   "cell_type": "code",
   "execution_count": 12,
   "metadata": {
    "Collapsed": "false"
   },
   "outputs": [
    {
     "data": {
      "text/plain": [
       "{'tfidfvectorizer__norm': 'l2',\n",
       " 'tfidfvectorizer__ngram_range': (1, 4),\n",
       " 'tfidfvectorizer__max_features': None,\n",
       " 'tfidfvectorizer__binary': False}"
      ]
     },
     "execution_count": 12,
     "metadata": {},
     "output_type": "execute_result"
    }
   ],
   "source": [
    "clf_opt.best_params_"
   ]
  },
  {
   "cell_type": "code",
   "execution_count": 13,
   "metadata": {
    "Collapsed": "false"
   },
   "outputs": [
    {
     "name": "stdout",
     "output_type": "stream",
     "text": [
      "Per Class Evaluation: \n",
      "              precision    recall  f1-score   support\n",
      "\n",
      "           0       0.80      0.26      0.39       319\n",
      "           1       0.72      0.70      0.71       389\n",
      "           2       0.70      0.63      0.66       394\n",
      "           3       0.61      0.74      0.67       392\n",
      "           4       0.83      0.68      0.74       385\n",
      "           5       0.79      0.77      0.78       395\n",
      "           6       0.81      0.81      0.81       390\n",
      "           7       0.85      0.80      0.82       396\n",
      "           8       0.88      0.86      0.87       398\n",
      "           9       0.91      0.82      0.86       397\n",
      "          10       0.80      0.96      0.87       399\n",
      "          11       0.64      0.87      0.74       396\n",
      "          12       0.74      0.55      0.63       393\n",
      "          13       0.82      0.76      0.79       396\n",
      "          14       0.72      0.81      0.77       394\n",
      "          15       0.40      0.94      0.56       398\n",
      "          16       0.66      0.71      0.69       364\n",
      "          17       0.79      0.84      0.81       376\n",
      "          18       0.92      0.39      0.55       310\n",
      "          19       0.81      0.12      0.21       251\n",
      "\n",
      "    accuracy                           0.72      7532\n",
      "   macro avg       0.76      0.70      0.70      7532\n",
      "weighted avg       0.76      0.72      0.71      7532\n",
      "\n"
     ]
    }
   ],
   "source": [
    "# We use best model to predict and print results  \n",
    "y_pred = clf_opt.predict(X_test)\n",
    "print('Per Class Evaluation: \\n' + classification_report(y_test,y_pred))"
   ]
  },
  {
   "cell_type": "code",
   "execution_count": null,
   "metadata": {
    "Collapsed": "false"
   },
   "outputs": [],
   "source": []
  }
 ],
 "metadata": {
  "colab": {
   "collapsed_sections": [],
   "name": "NB exercise.ipynb",
   "provenance": []
  },
  "kernelspec": {
   "display_name": "Python 3",
   "language": "python",
   "name": "python3"
  },
  "language_info": {
   "codemirror_mode": {
    "name": "ipython",
    "version": 3
   },
   "file_extension": ".py",
   "mimetype": "text/x-python",
   "name": "python",
   "nbconvert_exporter": "python",
   "pygments_lexer": "ipython3",
   "version": "3.7.5"
  }
 },
 "nbformat": 4,
 "nbformat_minor": 4
}
