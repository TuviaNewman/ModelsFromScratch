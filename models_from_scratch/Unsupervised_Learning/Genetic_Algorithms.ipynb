{
 "cells": [
  {
   "cell_type": "markdown",
   "metadata": {
    "Collapsed": "false",
    "colab_type": "text",
    "id": "H73tfZLkIeeZ"
   },
   "source": [
    "# Genetic Algorithms"
   ]
  },
  {
   "cell_type": "markdown",
   "metadata": {
    "Collapsed": "false"
   },
   "source": [
    "A genetic algorithm is a stochastic search algorithm that is inspired by Charles Darwin’s theory of natural evolution. This algorithm reflects the process of natural selection where the fittest individuals are selected for reproduction in order to produce offspring of the next generation. \n",
    "\n",
    "Genetic algorithms work by randomly initializing a population with a function that can evaluate each member of the population's fitness (how \"good\" they are, smaller is better).\n",
    "We then evolve the popupulation over many generations by\n",
    "1) Measuring the fitness of all solutions choosing the most fit individuals as parents <br>\n",
    "2) Mixing the parents together to to create new offspring (solutions) <br>\n",
    "3) Mutating some of the offspring <br>\n",
    " \n",
    "We repeat these steps until our stop criteria are met\n"
   ]
  },
  {
   "cell_type": "code",
   "execution_count": 1,
   "metadata": {
    "Collapsed": "false",
    "colab": {},
    "colab_type": "code",
    "id": "D-EAeWWYILUv"
   },
   "outputs": [],
   "source": [
    "import numpy as np\n",
    "import pandas as pd\n",
    "import matplotlib.pyplot as plt"
   ]
  },
  {
   "cell_type": "code",
   "execution_count": 2,
   "metadata": {
    "Collapsed": "false"
   },
   "outputs": [],
   "source": [
    "%matplotlib inline"
   ]
  },
  {
   "cell_type": "markdown",
   "metadata": {
    "Collapsed": "false",
    "colab_type": "text",
    "id": "YCITy6prILUy"
   },
   "source": [
    "### Read measured data from an Excel file"
   ]
  },
  {
   "cell_type": "code",
   "execution_count": 3,
   "metadata": {
    "Collapsed": "false",
    "colab": {
     "base_uri": "https://localhost:8080/",
     "height": 612
    },
    "colab_type": "code",
    "id": "wIxFdlaQILUz",
    "outputId": "42f322dc-c254-41a1-fd17-11872c2ffd4c"
   },
   "outputs": [],
   "source": [
    "xlsx = pd.ExcelFile('European Measurements.xlsx')\n",
    "sheet1 = xlsx.parse(3) # Note the other datasets in the file.\n",
    "variables = [\"Month\",\"Avg. Likes\"]\n",
    "data = sheet1.loc[:, variables].values\n",
    "# print(data)"
   ]
  },
  {
   "cell_type": "markdown",
   "metadata": {
    "Collapsed": "false",
    "colab_type": "text",
    "id": "8v3IQBqoILU2"
   },
   "source": [
    "### Simple GA mechanism"
   ]
  },
  {
   "cell_type": "code",
   "execution_count": 4,
   "metadata": {
    "Collapsed": "false",
    "colab": {},
    "colab_type": "code",
    "id": "Tcu-CbABILU2"
   },
   "outputs": [],
   "source": [
    "def fitness_function(data, pop):\n",
    "    '''\n",
    "    measure the fitness of each solution\n",
    "    data: given data points\n",
    "    pop: current population of solutions\n",
    "    '''\n",
    "    fitness = []\n",
    "    for solution in range(len(pop)):\n",
    "        for event in range(len(data)):\n",
    "            error = 0;\n",
    "            event_time = data[event][0]\n",
    "            event_measured = data[event][1]\n",
    "            event_expected = pop[solution][0]*event_time**3 + pop[solution][1]*event_time**2 + pop[solution][2]*event_time + pop[solution][3]\n",
    "            error +=(event_expected - event_measured)**2\n",
    "        fitness.append(1/error) # We use 1/error in order to use a maximization mechanism, while we want to minimize the error\n",
    "    return fitness\n",
    "\n",
    "def biased_selection(pop, fitness, num_parents):\n",
    "    '''\n",
    "    select the top num_parents of solutions according to their fitness\n",
    "    pop: current population of solutions\n",
    "    fitness: fitness score for each solution\n",
    "    num_parents: top number of solutions to kept\n",
    "    '''\n",
    "    sorted_fitness_args = np.argsort(fitness)\n",
    "    return pop[sorted_fitness_args[-num_parents:],:]\n",
    "\n",
    "def recombination(parents, offspring_size):\n",
    "    '''\n",
    "    mix the parent solutions to create a new set of solutions\n",
    "    parents: previous set of solutions to be used to make new generation of solutions\n",
    "    offspring_size: amount of new soltions to create from parents\n",
    "    '''\n",
    "    offspring = np.empty(offspring_size)\n",
    "    recombination_point = np.uint8(offspring_size[1]/2)\n",
    "    for k in range(offspring_size[0]):\n",
    "        parent1_idx = k%parents.shape[0]\n",
    "        parent2_idx = (k+1)%parents.shape[0]\n",
    "        offspring[k, 0:recombination_point] = parents[parent1_idx, 0:recombination_point]\n",
    "        offspring[k, recombination_point:] = parents[parent2_idx, recombination_point:]\n",
    "    return offspring\n",
    "\n",
    "def mutation(offspring_recombination):\n",
    "    '''\n",
    "    for each solution we mutate a single number from the overall solution\n",
    "    offspring_recombination: new generation of solutions to mutate\n",
    "    '''\n",
    "    for idx in range(offspring_recombination.shape[0]):\n",
    "#         if np.random.randint(1, 4, 1)[0] < 1:\n",
    "        random_value = np.random.randint(-100, 100, 1)\n",
    "        random_index = np.random.randint(0, offspring_recombination.shape[1], 1)\n",
    "        offspring_recombination[idx, random_index] = offspring_recombination[idx, random_index] + random_value\n",
    "    return offspring_recombination\n"
   ]
  },
  {
   "cell_type": "markdown",
   "metadata": {
    "Collapsed": "false",
    "colab_type": "text",
    "id": "k5Cr_UkDILU5"
   },
   "source": [
    "### GA application for fitting time series data\n",
    "We try to optimize our solutions to the fitness function over many generations of solutions \n",
    "\n",
    "We are given that a good solution to our data is:  a=4.8, b=12.1, c=53.2 and d=6219.\n",
    "We are using our fitness function to try and find other solutions with a very low fitness (lower is better)."
   ]
  },
  {
   "cell_type": "code",
   "execution_count": null,
   "metadata": {
    "Collapsed": "false",
    "colab": {
     "base_uri": "https://localhost:8080/",
     "height": 970
    },
    "colab_type": "code",
    "id": "_dgGTW_wILU6",
    "outputId": "cf4e60ed-ca84-49b6-e54a-3e23a809623b"
   },
   "outputs": [
    {
     "name": "stdout",
     "output_type": "stream",
     "text": [
      "The population of the first generation: \n",
      "[[1149  531 3866 1468]\n",
      " [3623 4930 4674 1801]\n",
      " [4246 2890 3254 1432]\n",
      " ...\n",
      " [3717  503 1352 4745]\n",
      " [4094  283  871 2846]\n",
      " [1420 1400 2478  935]]\n",
      "\n",
      "Evolution:\n",
      "Generation =  0 \tBest fitness =  93972062.67646\n",
      "Generation =  1 \tBest fitness =  70641186.65473\n",
      "Generation =  2 \tBest fitness =  149928.60235\n"
     ]
    }
   ],
   "source": [
    "# GA Parameters\n",
    "formula_degree = 4\n",
    "number_of_solutions = 1000\n",
    "number_of_parents = 2000\n",
    "population_size = (number_of_solutions, formula_degree) \n",
    "number_of_generations = 10\n",
    "best_outputs = []\n",
    "\n",
    "# Genesis\n",
    "new_population = np.random.randint(low=0, high=5000, size=population_size)\n",
    "print(\"The population of the first generation: \")\n",
    "print(new_population)\n",
    "\n",
    "# Evolution\n",
    "print (\"\\nEvolution:\")\n",
    "for generation in range(number_of_generations):\n",
    "\n",
    "    fitness = fitness_function(data, new_population)\n",
    "    print(\"Generation = \", generation, \"\\tBest fitness = \", round(1/np.max(fitness),5))\n",
    "    best_outputs.append(round(1/np.max(fitness),5))\n",
    "    parents = biased_selection(new_population, fitness, number_of_parents)\n",
    "    offspring_recombination = recombination(parents, offspring_size=(population_size[0]-parents.shape[0], formula_degree))\n",
    "    offspring_mutation = mutation(offspring_recombination)\n",
    "    new_population[0:parents.shape[0], :] = parents\n",
    "    new_population[parents.shape[0]:, :] = offspring_mutation\n",
    "\n",
    "# Results\n",
    "print(\"\\nThe population of the last generation: \")\n",
    "print(new_population)\n",
    "fitness = fitness_function(data, new_population)\n",
    "best_match_idx = np.where(fitness == np.max(fitness))\n",
    "print(\"Best solution: \", new_population[best_match_idx, :])\n",
    "\n",
    "# Chart\n",
    "plt.plot(best_outputs)\n",
    "plt.xlabel(\"Generation\")\n",
    "plt.ylabel(\"Best Fitness Score\")\n",
    "plt.show()"
   ]
  },
  {
   "cell_type": "markdown",
   "metadata": {
    "Collapsed": "false"
   },
   "source": [
    "#### Knowning that a good answer to the problem is: a=4.8, b=12.1, c=53.2 and d=6219 lets us create an fitness score so we can  look for other possible solutions."
   ]
  },
  {
   "cell_type": "code",
   "execution_count": null,
   "metadata": {
    "Collapsed": "false"
   },
   "outputs": [],
   "source": []
  }
 ],
 "metadata": {
  "colab": {
   "collapsed_sections": [],
   "name": "GA_Notebook.ipynb",
   "provenance": [],
   "toc_visible": true
  },
  "kernelspec": {
   "display_name": "Python 3",
   "language": "python",
   "name": "python3"
  },
  "language_info": {
   "codemirror_mode": {
    "name": "ipython",
    "version": 3
   },
   "file_extension": ".py",
   "mimetype": "text/x-python",
   "name": "python",
   "nbconvert_exporter": "python",
   "pygments_lexer": "ipython3",
   "version": "3.7.5"
  }
 },
 "nbformat": 4,
 "nbformat_minor": 4
}
