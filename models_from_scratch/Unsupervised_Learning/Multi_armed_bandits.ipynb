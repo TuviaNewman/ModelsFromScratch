{
 "cells": [
  {
   "cell_type": "markdown",
   "metadata": {
    "Collapsed": "false",
    "colab_type": "text",
    "id": "ED0IEwIDpFyZ"
   },
   "source": [
    "# Multi armed bandit"
   ]
  },
  {
   "cell_type": "markdown",
   "metadata": {
    "Collapsed": "false",
    "colab_type": "text",
    "id": "LbMhsFMapFyd"
   },
   "source": [
    "*Multi-armed bandit* is a problem of choosing between alternative options with unknown rewards, trying to maximize your expected reward and to learn it at the same time. You can find here a [wiki article](https://en.wikipedia.org/wiki/Multi-armed_bandit) and a [good blogpost](https://lilianweng.github.io/lil-log/2018/01/23/the-multi-armed-bandit-problem-and-its-solutions.html) about it. \n",
    "\n",
    "In this notebook, we'll create a simple environment for simulating such problems and try out a couple of strategies for dealing with them."
   ]
  },
  {
   "cell_type": "code",
   "execution_count": 1,
   "metadata": {
    "Collapsed": "false",
    "colab": {},
    "colab_type": "code",
    "id": "nAaFU5qBpFyg"
   },
   "outputs": [],
   "source": [
    "import numpy as np\n",
    "import matplotlib.pyplot as plt\n",
    "from collections import Counter\n",
    "import operator\n",
    "\n",
    "%matplotlib inline"
   ]
  },
  {
   "cell_type": "markdown",
   "metadata": {
    "Collapsed": "false",
    "colab_type": "text",
    "id": "BMWb7e-IpFyo"
   },
   "source": [
    "This class will generate rewards for each action taken by the solver. "
   ]
  },
  {
   "cell_type": "code",
   "execution_count": 2,
   "metadata": {
    "Collapsed": "false",
    "colab": {},
    "colab_type": "code",
    "id": "3K_7AgwnpFyr"
   },
   "outputs": [],
   "source": [
    "class BinaryEnvironment:\n",
    "    \n",
    "    def __init__(self, actions, rewards=None):\n",
    "        '''\n",
    "        actions: the set of actions that the bandit can take\n",
    "        rewards: a dictionary of rewards per actions\n",
    "        '''\n",
    "        self.actions = actions\n",
    "        if rewards is None:\n",
    "            rewards = np.linspace(0.05, 0.95, len(self.actions))\n",
    "        self.success_proba = dict(zip(self.actions, rewards))\n",
    "        \n",
    "    def generate_reward(self, action):\n",
    "        '''\n",
    "        Given an action we generate a reward a percentage of the time based on the value saved in success_proba\n",
    "        action: action taken by the bandit\n",
    "        '''\n",
    "        return int(np.random.uniform() < self.success_proba[action])"
   ]
  },
  {
   "cell_type": "markdown",
   "metadata": {
    "Collapsed": "false",
    "colab_type": "text",
    "id": "ztRPb6RApFyy"
   },
   "source": [
    "This is the base class for different problem solvers."
   ]
  },
  {
   "cell_type": "code",
   "execution_count": 3,
   "metadata": {
    "Collapsed": "false",
    "colab": {},
    "colab_type": "code",
    "id": "9zH0Qd2-pFyz"
   },
   "outputs": [],
   "source": [
    "class BaseBandit:\n",
    "    \n",
    "    def __init__(self, actions):\n",
    "        self.actions = actions\n",
    "        \n",
    "    def reset(self):\n",
    "        pass \n",
    "    \n",
    "    def choose_next_action(self):\n",
    "        raise NotImplementedError()\n",
    "        \n",
    "    def update(self, action, reward):\n",
    "        raise NotImplementedError()"
   ]
  },
  {
   "cell_type": "markdown",
   "metadata": {
    "Collapsed": "false",
    "colab_type": "text",
    "id": "kgtNeqfqpFy4"
   },
   "source": [
    "Now we can write a fuction that puts our solver into the environment and looks how well it works. "
   ]
  },
  {
   "cell_type": "code",
   "execution_count": 4,
   "metadata": {
    "Collapsed": "false",
    "colab": {},
    "colab_type": "code",
    "id": "F-PCSU5wpFy5"
   },
   "outputs": [],
   "source": [
    "def simulate(env, solver, n_sims=100, n_steps=100):\n",
    "    '''\n",
    "    Stimulate how well a solver scores\n",
    "    env: what environment we use for our solver\n",
    "    solver: the bandit that we are testing\n",
    "    n_sims: how many times to run simulation\n",
    "    n_steps: how many steps per simulation\n",
    "    '''\n",
    "    mean_rewards = []\n",
    "    mean_curve = np.zeros(shape=n_steps)\n",
    "    for sim in range(n_sims):\n",
    "        solver.reset()\n",
    "        actions = []\n",
    "        rewards = []\n",
    "        for i in range(n_steps):\n",
    "            a = solver.choose_next_action()\n",
    "            r = env.generate_reward(a)\n",
    "            actions.append(a)\n",
    "            rewards.append(r)\n",
    "            solver.update(a, r)\n",
    "        mean_rewards.append(np.mean(rewards))\n",
    "        mean_curve += np.cumsum(rewards) / n_sims\n",
    "        \n",
    "    plt.plot(mean_curve / np.arange(1, n_steps+1))\n",
    "    plt.xlabel('time')\n",
    "    plt.ylabel('mean cumulative reward')\n",
    "    return np.mean(mean_rewards)"
   ]
  },
  {
   "cell_type": "markdown",
   "metadata": {
    "Collapsed": "false",
    "colab_type": "text",
    "id": "SdY2mei3pFy-"
   },
   "source": [
    "Let's try a simple solver that just chooses an action at random"
   ]
  },
  {
   "cell_type": "code",
   "execution_count": 5,
   "metadata": {
    "Collapsed": "false",
    "colab": {},
    "colab_type": "code",
    "id": "ZtzgwlZMpFy_"
   },
   "outputs": [],
   "source": [
    "class RandomBandit(BaseBandit):\n",
    "    '''\n",
    "    A bandit that always takes a random action\n",
    "    '''\n",
    "    def choose_next_action(self):\n",
    "        '''\n",
    "        Chooses action randomly\n",
    "        '''\n",
    "        return np.random.choice(self.actions)\n",
    "    \n",
    "    def update(self, action, reward):\n",
    "        pass"
   ]
  },
  {
   "cell_type": "code",
   "execution_count": 6,
   "metadata": {
    "Collapsed": "false",
    "colab": {},
    "colab_type": "code",
    "id": "gEFoBiTjpFzF"
   },
   "outputs": [],
   "source": [
    "options = np.arange(10)\n",
    "env = BinaryEnvironment(options)"
   ]
  },
  {
   "cell_type": "markdown",
   "metadata": {
    "Collapsed": "false",
    "colab_type": "text",
    "id": "JTmaVzuOpFzK"
   },
   "source": [
    "For a random bandit, mean reward as a function of time is just a random walk: it doesn't use previous experience at all. "
   ]
  },
  {
   "cell_type": "code",
   "execution_count": 7,
   "metadata": {
    "Collapsed": "false",
    "colab": {},
    "colab_type": "code",
    "id": "XM22IagFpFzL"
   },
   "outputs": [
    {
     "data": {
      "text/plain": [
       "0.5005"
      ]
     },
     "execution_count": 7,
     "metadata": {},
     "output_type": "execute_result"
    },
    {
     "data": {
      "image/png": "[encoded data removed]",
      "text/plain": [
       "<Figure size 432x288 with 1 Axes>"
      ]
     },
     "metadata": {
      "needs_background": "light"
     },
     "output_type": "display_data"
    }
   ],
   "source": [
    "bandit = RandomBandit(actions=options)\n",
    "simulate(env, bandit)"
   ]
  },
  {
   "cell_type": "markdown",
   "metadata": {
    "Collapsed": "false"
   },
   "source": [
    "We can see that the mean value goes to 0.5, which makes a lot of sense being that the choice is random, the reward is 1 and the average chance of getting the reward over all actions is 50%."
   ]
  },
  {
   "cell_type": "markdown",
   "metadata": {
    "Collapsed": "false",
    "colab_type": "text",
    "id": "sEu7Bv7upFzS"
   },
   "source": [
    "## epsilon-greedy"
   ]
  },
  {
   "cell_type": "markdown",
   "metadata": {
    "Collapsed": "false",
    "colab_type": "text",
    "id": "1WPnwCgDpFzT"
   },
   "source": [
    "Instead of pure randomness, we can code a so-called `epsilon-greedy` solver: with probability $\\varepsilon$ it explores (takes a random uniform action), and with probability $1-\\varepsilon$ it exploits: chooses the action with the best mean reward, according to its history. "
   ]
  },
  {
   "cell_type": "code",
   "execution_count": 8,
   "metadata": {
    "Collapsed": "false",
    "colab": {},
    "colab_type": "code",
    "id": "YLocrSWPpFzV"
   },
   "outputs": [],
   "source": [
    "def dict_argmax(dictionary):\n",
    "    return max(dictionary.items(), key=operator.itemgetter(1))[0]\n",
    "\n",
    "\n",
    "class EpsilonGreedyBandit(BaseBandit):\n",
    "    '''\n",
    "    For epsilon greedy bandit with probability epsilon it takes a random uniform action, and with probability 1−epsilon it exploits\n",
    "    '''\n",
    "    def __init__(self, actions, epsilon=0.1):\n",
    "        '''\n",
    "        actions: the set of actions that the bandit can take\n",
    "        epsilon: the hyperparameter epsilon for this solver\n",
    "        '''\n",
    "        super(EpsilonGreedyBandit, self).__init__(actions)\n",
    "        self.epsilon = epsilon\n",
    "        \n",
    "    def reset(self):\n",
    "        '''\n",
    "        reset bandit variables\n",
    "        '''\n",
    "        self.action_counts = Counter()\n",
    "        self.action_sums = Counter()\n",
    "        self.update_means()\n",
    "        \n",
    "    def update_means(self):\n",
    "        '''\n",
    "        update mean reward recieved from every action\n",
    "        '''\n",
    "        self.means = {a: total / self.action_counts[a] for a, total in self.action_sums.items()}\n",
    "        \n",
    "    def choose_next_action(self):\n",
    "        '''\n",
    "        choose next action (explore or exploit) to do \n",
    "        '''\n",
    "        if not self.means or np.random.rand() < self.epsilon:\n",
    "            return np.random.choice(self.actions)\n",
    "        else:\n",
    "            # dictionary argmax\n",
    "            return dict_argmax(self.means)\n",
    "        \n",
    "    def update(self, action, reward):\n",
    "        '''\n",
    "        update variables based upon taken action and recieved reward\n",
    "        action: action taken by bandit\n",
    "        reward: reward recieved from given action\n",
    "        '''\n",
    "        self.action_counts[action] +=1\n",
    "        self.action_sums[action] += reward\n",
    "        self.update_means()"
   ]
  },
  {
   "cell_type": "markdown",
   "metadata": {
    "Collapsed": "false",
    "colab_type": "text",
    "id": "85v7j5NcpFzb"
   },
   "source": [
    "Now we can look at how different values of $\\varepsilon$ perform.\n",
    "\n",
    "You can see that when $\\varepsilon$ is too high, the mean reward converges to a smaller value, because the proportion of random actions is high. \n",
    "\n",
    "And if $\\varepsilon$ is too low, the solver sticks to a suboptimal action too early, and improves very slowly. "
   ]
  },
  {
   "cell_type": "code",
   "execution_count": 9,
   "metadata": {
    "Collapsed": "false",
    "colab": {},
    "colab_type": "code",
    "id": "vyKCSV_wpFzd"
   },
   "outputs": [
    {
     "data": {
      "image/png": "[encoded data removed]",
      "text/plain": [
       "<Figure size 432x288 with 1 Axes>"
      ]
     },
     "metadata": {
      "needs_background": "light"
     },
     "output_type": "display_data"
    }
   ],
   "source": [
    "epsilons = [0.01, 0.03, 0.1, 0.3, 0.6, 0.95]\n",
    "for eps in epsilons:\n",
    "    bandit = EpsilonGreedyBandit(actions=options, epsilon=eps)\n",
    "    simulate(env, bandit)\n",
    "plt.legend(epsilons)\n",
    "plt.title('epsilon-greedy strategies for different epsilon');"
   ]
  },
  {
   "cell_type": "markdown",
   "metadata": {
    "Collapsed": "false",
    "colab_type": "text",
    "id": "LS6BJsjFpFzh"
   },
   "source": [
    "## UCB bandit"
   ]
  },
  {
   "cell_type": "markdown",
   "metadata": {
    "Collapsed": "false",
    "colab_type": "text",
    "id": "2s_oSJ3KpFzi"
   },
   "source": [
    "We can improve our solver even further, by making it choose on each step the action with the highest possible upper confidence bound for mean reward.\n",
    "\n",
    "One of simple ways to approximate upper confidence bound for mean is to add several standard deviations of tne sample mean to the sample mean - like in normal distribution (to which distribution of sample mean will sooner or later converge):\n",
    "\n",
    "$$ UCB = \\bar{x} + m\\frac{\\hat{\\sigma}}{\\sqrt{n}}$$\n",
    "\n",
    "Here $m$ is just some multiplier that reflects the degree of exploration we are going to do. The higher is this multiplier, the more will be the tendency to try actions with small $n$ and high $\\hat{\\sigma}$  - that is, the most uncertain actions.\n"
   ]
  },
  {
   "cell_type": "code",
   "execution_count": 10,
   "metadata": {
    "Collapsed": "false",
    "colab": {},
    "colab_type": "code",
    "id": "ZuuexFiHpFzk"
   },
   "outputs": [],
   "source": [
    "class UpperConfidenceBandit(BaseBandit):\n",
    "    '''\n",
    "    For every action we try to choose the action with the highest possible upper confidence bound for mean reward. \n",
    "    Here m is just some multiplier that reflects the degree of exploration. The higher is this multiplier,  \n",
    "    the more will be the tendency to try uncertain actions\n",
    "    '''\n",
    "    \n",
    "    def __init__(self, actions, multiplier):\n",
    "        '''\n",
    "        actions: the set of actions that the bandit can take\n",
    "        multiplier: the multiplier parameter for this model. Higher m = bandit more likely to explore\n",
    "        '''\n",
    "        super(UpperConfidenceBandit, self).__init__(actions)\n",
    "        self.multiplier = multiplier\n",
    "        \n",
    "    def reset(self):\n",
    "        '''\n",
    "        reset bandit variables\n",
    "        '''\n",
    "        # we initialize the counters with one imaginary success and one imaginary failure\n",
    "        # it's just a heuristic, nothing scientific about it\n",
    "        self.action_counts = {action: 2 for action in self.actions}\n",
    "        self.action_sums = {action: 1 for action in self.actions}\n",
    "        self.update_ucbs()\n",
    "        \n",
    "    def update_ucbs(self):\n",
    "        '''\n",
    "        Update the upper confidence interval for the mean reward for each action \n",
    "        '''\n",
    "        self.means = {a: self.action_sums[a] / self.action_counts[a] for a in self.actions}\n",
    "        self.ucbs = {\n",
    "            action: mean + self.multiplier*np.sqrt(mean - mean**2) / (np.sqrt(self.action_counts[action]))\n",
    "            for action, mean in self.means.items()\n",
    "        }\n",
    "        \n",
    "    def choose_next_action(self):\n",
    "        '''\n",
    "        choose the next action\n",
    "        '''\n",
    "        return dict_argmax(self.ucbs)\n",
    "#         return max(self.means.items(), key=operator.itemgetter(1))[0]\n",
    "    \n",
    "    def update(self, action, reward):\n",
    "        '''\n",
    "        update variables based upon taken action and recieved reward\n",
    "        action: action taken by bandit\n",
    "        reward: reward recieved from given action\n",
    "        '''\n",
    "        self.action_counts[action] += 1\n",
    "        self.action_sums[action] += reward\n",
    "        self.update_ucbs()"
   ]
  },
  {
   "cell_type": "markdown",
   "metadata": {
    "Collapsed": "false",
    "colab_type": "text",
    "id": "icCZEEuIpFzo"
   },
   "source": [
    "Now we can try how our strategy works with different multipliers. \n",
    "\n",
    "It seems that a very small multiplier is already enough to explore all the options well enough and quickly converge to the best one. "
   ]
  },
  {
   "cell_type": "code",
   "execution_count": 11,
   "metadata": {
    "Collapsed": "false",
    "colab": {},
    "colab_type": "code",
    "id": "z1KV0m5apFzq"
   },
   "outputs": [
    {
     "data": {
      "image/png": "[encoded data removed]",
      "text/plain": [
       "<Figure size 432x288 with 1 Axes>"
      ]
     },
     "metadata": {
      "needs_background": "light"
     },
     "output_type": "display_data"
    }
   ],
   "source": [
    "multipliers = [0.1, 0.5, 1, 2, 3]\n",
    "mean_returns = []\n",
    "for mul in multipliers:\n",
    "    ucbb = UpperConfidenceBandit(actions=options, multiplier=mul)\n",
    "    mean_returns.append(simulate(env, ucbb))\n",
    "plt.legend(multipliers);\n",
    "plt.title('Normal UCB strategy, with different multipliers');\n",
    "\n",
    "assert max(mean_returns) > 0.8"
   ]
  },
  {
   "cell_type": "code",
   "execution_count": 12,
   "metadata": {
    "Collapsed": "false"
   },
   "outputs": [
    {
     "data": {
      "text/plain": [
       "[0.6953,\n",
       " 0.7498999999999998,\n",
       " 0.8208000000000003,\n",
       " 0.8300000000000002,\n",
       " 0.7420000000000002]"
      ]
     },
     "execution_count": 12,
     "metadata": {},
     "output_type": "execute_result"
    }
   ],
   "source": [
    "mean_returns"
   ]
  },
  {
   "cell_type": "markdown",
   "metadata": {
    "Collapsed": "false",
    "colab_type": "text",
    "id": "vtuH0B0qpFzx"
   },
   "source": [
    "### Upper Confidence Decreasing Bandit"
   ]
  },
  {
   "cell_type": "markdown",
   "metadata": {
    "Collapsed": "false",
    "colab_type": "text",
    "id": "ViwbZAFspFzy"
   },
   "source": [
    "The environment we use is built in such a way, that the maximum possible average reward is 0.95 (if the solver knew the best action from the very beginning). \n",
    "\n",
    "Of course, no real algorithm can achieve this mean reward, but some algorithms can come close to it. \n",
    "\n",
    "Here we will experiment with changing the parameters of the bandit over time, e.g. gradually decreasing $\\varepsilon$ or $m$, so that the algorithm starts with aggressive exploration and then quickly switches to exploitation. \n"
   ]
  },
  {
   "cell_type": "code",
   "execution_count": 13,
   "metadata": {
    "Collapsed": "false",
    "colab": {},
    "colab_type": "code",
    "id": "HUORAOt_pFzz"
   },
   "outputs": [],
   "source": [
    "class UpperConfidenceDecreasingBandit(BaseBandit):\n",
    "    '''\n",
    "    For every action we try to choose the action with the highest possible upper confidence bound for mean reward. \n",
    "    Here m is just some multiplier that reflects the degree of exploration. The higher is this multiplier,  \n",
    "    the more will be the tendency to try uncertain actions.\n",
    "    We also have hyperparameter delta which will lower the multiplier over time, making the model more likely to exploit as time goes on.\n",
    "    '''\n",
    "    def __init__(self, actions, multiplier, delta):\n",
    "        '''\n",
    "        actions: the set of actions that the bandit can take\n",
    "        multiplier: the multiplier parameter for this model. Higher m = bandit more likely to explore\n",
    "        delta: the degree to which we lower out multiplier after every taken action \n",
    "        '''\n",
    "        super(UpperConfidenceDecreasingBandit, self).__init__(actions)\n",
    "        self.multiplier = multiplier\n",
    "        self.delta = delta\n",
    "        \n",
    "    def reset(self):\n",
    "        '''\n",
    "        reset bandit variables\n",
    "        '''\n",
    "        # we initialize the counters with one imaginary success and one imaginary failure\n",
    "        # it's just a heuristic, nothing scientific about it\n",
    "        self.action_counts = {action: 2 for action in self.actions}\n",
    "        self.action_sums = {action: 1 for action in self.actions}\n",
    "        self.update_ucbs()\n",
    "        \n",
    "    def update_ucbs(self):\n",
    "        '''\n",
    "        Update the upper confidence interval for the mean reward for each action \n",
    "        '''\n",
    "        self.means = {a: self.action_sums[a] / self.action_counts[a] for a in self.actions}\n",
    "        self.ucbs = {\n",
    "            action: mean + self.multiplier* np.sqrt(mean - mean**2) / (np.sqrt(self.action_counts[action]))\n",
    "            for action, mean in self.means.items()\n",
    "        }\n",
    "        self.multiplier -= self.delta\n",
    "        \n",
    "    def choose_next_action(self):\n",
    "        '''\n",
    "        choose the next action\n",
    "        '''\n",
    "        return dict_argmax(self.ucbs)\n",
    "    \n",
    "    def update(self, action, reward):\n",
    "        '''\n",
    "        update variables based upon taken action and recieved reward\n",
    "        action: action taken by bandit\n",
    "        reward: reward recieved from given action\n",
    "        '''\n",
    "        self.action_counts[action] += 1\n",
    "        self.action_sums[action] += reward\n",
    "        self.update_ucbs()"
   ]
  },
  {
   "cell_type": "code",
   "execution_count": 14,
   "metadata": {
    "Collapsed": "false",
    "colab": {},
    "colab_type": "code",
    "id": "z1KV0m5apFzq"
   },
   "outputs": [
    {
     "data": {
      "image/png": "[encoded data removed]",
      "text/plain": [
       "<Figure size 432x288 with 1 Axes>"
      ]
     },
     "metadata": {
      "needs_background": "light"
     },
     "output_type": "display_data"
    }
   ],
   "source": [
    "multipliers = [0.1, 2, 10]\n",
    "# multipliers = [2]\n",
    "delta = [0.0001, 0.00001]\n",
    "mean_returns = []\n",
    "legend = []\n",
    "\n",
    "for mul in multipliers:\n",
    "    for delt in delta:\n",
    "        ucbb = UpperConfidenceDecreasingBandit(actions=options, multiplier=mul, delta=delt)\n",
    "        mean_returns.append(simulate(env, ucbb))\n",
    "        \n",
    "\n",
    "plt.legend([(mul, delt) for mul in multipliers for delt in delta]);\n",
    "plt.title('Decreasing UCB strategy, with different multipliers');\n",
    "\n",
    "assert max(mean_returns) > 0.8"
   ]
  },
  {
   "cell_type": "code",
   "execution_count": 15,
   "metadata": {
    "Collapsed": "false"
   },
   "outputs": [
    {
     "data": {
      "text/plain": [
       "[0.5618,\n",
       " 0.6903999999999999,\n",
       " 0.8420999999999998,\n",
       " 0.8342000000000002,\n",
       " 0.5844,\n",
       " 0.5848]"
      ]
     },
     "execution_count": 15,
     "metadata": {},
     "output_type": "execute_result"
    }
   ],
   "source": [
    "mean_returns"
   ]
  },
  {
   "cell_type": "code",
   "execution_count": null,
   "metadata": {
    "Collapsed": "false"
   },
   "outputs": [],
   "source": []
  }
 ],
 "metadata": {
  "colab": {
   "collapsed_sections": [],
   "name": "multi_armed_bandits.ipynb",
   "provenance": []
  },
  "kernelspec": {
   "display_name": "Python 3",
   "language": "python",
   "name": "python3"
  },
  "language_info": {
   "codemirror_mode": {
    "name": "ipython",
    "version": 3
   },
   "file_extension": ".py",
   "mimetype": "text/x-python",
   "name": "python",
   "nbconvert_exporter": "python",
   "pygments_lexer": "ipython3",
   "version": "3.7.5"
  }
 },
 "nbformat": 4,
 "nbformat_minor": 4
}
